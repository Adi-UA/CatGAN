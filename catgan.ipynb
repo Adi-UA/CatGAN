{
 "cells": [
  {
   "cell_type": "code",
   "execution_count": 9,
   "metadata": {},
   "outputs": [],
   "source": [
    "# Import dependences\n",
    "import tensorflow as tf\n",
    "import tensorflow_datasets as tfds\n",
    "from matplotlib import pyplot as plt\n",
    "import numpy as np"
   ]
  },
  {
   "attachments": {},
   "cell_type": "markdown",
   "metadata": {},
   "source": [
    "# Prepare the data pipeline\n",
    "\n",
    "In this section I will download the data and prepare the data pipeline to the TF dataset. I will also create a label map dict to map the 0 and 1 encodings onto cats and dogs respectively.\n"
   ]
  },
  {
   "cell_type": "code",
   "execution_count": 2,
   "metadata": {},
   "outputs": [
    {
     "name": "stdout",
     "output_type": "stream",
     "text": [
      "\u001b[1mDownloading and preparing dataset Unknown size (download: Unknown size, generated: Unknown size, total: Unknown size) to C:\\Users\\viruv\\tensorflow_datasets\\cats_vs_dogs\\4.0.0...\u001b[0m\n"
     ]
    },
    {
     "data": {
      "application/vnd.jupyter.widget-view+json": {
       "model_id": "a7aef808516447b7a454509f37a2fc05",
       "version_major": 2,
       "version_minor": 0
      },
      "text/plain": [
       "Dl Completed...: 0 url [00:00, ? url/s]"
      ]
     },
     "metadata": {},
     "output_type": "display_data"
    },
    {
     "data": {
      "application/vnd.jupyter.widget-view+json": {
       "model_id": "5fa7489e2dbf4bddbb30f8a4f83bca0c",
       "version_major": 2,
       "version_minor": 0
      },
      "text/plain": [
       "Dl Size...: 0 MiB [00:00, ? MiB/s]"
      ]
     },
     "metadata": {},
     "output_type": "display_data"
    },
    {
     "data": {
      "application/vnd.jupyter.widget-view+json": {
       "model_id": "f051202875d74942bca3130d0fa93a7c",
       "version_major": 2,
       "version_minor": 0
      },
      "text/plain": [
       "Generating splits...:   0%|          | 0/1 [00:00<?, ? splits/s]"
      ]
     },
     "metadata": {},
     "output_type": "display_data"
    },
    {
     "data": {
      "application/vnd.jupyter.widget-view+json": {
       "model_id": "a854b20cc84548cd860e6a6572d78476",
       "version_major": 2,
       "version_minor": 0
      },
      "text/plain": [
       "Generating train examples...: 0 examples [00:00, ? examples/s]"
      ]
     },
     "metadata": {},
     "output_type": "display_data"
    },
    {
     "name": "stderr",
     "output_type": "stream",
     "text": [
      "WARNING:absl:1738 images were corrupted and were skipped\n"
     ]
    },
    {
     "data": {
      "application/vnd.jupyter.widget-view+json": {
       "model_id": "88163ebcc8fc4f21a9c9928686dfbc50",
       "version_major": 2,
       "version_minor": 0
      },
      "text/plain": [
       "Shuffling C:\\Users\\viruv\\tensorflow_datasets\\cats_vs_dogs\\4.0.0.incomplete4UKEKO\\cats_vs_dogs-train.tfrecord*.…"
      ]
     },
     "metadata": {},
     "output_type": "display_data"
    },
    {
     "name": "stdout",
     "output_type": "stream",
     "text": [
      "\u001b[1mDataset cats_vs_dogs downloaded and prepared to C:\\Users\\viruv\\tensorflow_datasets\\cats_vs_dogs\\4.0.0. Subsequent calls will reuse this data.\u001b[0m\n"
     ]
    }
   ],
   "source": [
    "# Download dataset\n",
    "ds = tfds.load(\"cats_vs_dogs\", split=\"train\")"
   ]
  },
  {
   "cell_type": "code",
   "execution_count": 40,
   "metadata": {},
   "outputs": [
    {
     "data": {
      "text/plain": [
       "'The following image is of size (262, 350, 3)'"
      ]
     },
     "metadata": {},
     "output_type": "display_data"
    },
    {
     "data": {
      "text/plain": [
       "array([[[242, 248, 248],\n",
       "        [240, 246, 246],\n",
       "        [235, 239, 238],\n",
       "        ...,\n",
       "        [188, 174, 127],\n",
       "        [145, 133,  85],\n",
       "        [161, 149, 101]],\n",
       "\n",
       "       [[238, 244, 244],\n",
       "        [239, 245, 245],\n",
       "        [235, 239, 238],\n",
       "        ...,\n",
       "        [188, 176, 128],\n",
       "        [165, 153, 105],\n",
       "        [178, 168, 119]],\n",
       "\n",
       "       [[237, 241, 240],\n",
       "        [238, 242, 241],\n",
       "        [232, 236, 235],\n",
       "        ...,\n",
       "        [200, 187, 142],\n",
       "        [201, 191, 142],\n",
       "        [200, 192, 143]],\n",
       "\n",
       "       ...,\n",
       "\n",
       "       [[130, 122,  75],\n",
       "        [152, 146,  98],\n",
       "        [154, 148,  98],\n",
       "        ...,\n",
       "        [161, 166, 136],\n",
       "        [ 77,  86,  57],\n",
       "        [ 71,  82,  52]],\n",
       "\n",
       "       [[167, 159, 112],\n",
       "        [105,  99,  51],\n",
       "        [148, 142,  92],\n",
       "        ...,\n",
       "        [ 67,  73,  45],\n",
       "        [ 46,  56,  29],\n",
       "        [ 41,  54,  26]],\n",
       "\n",
       "       [[138, 130,  83],\n",
       "        [ 83,  77,  29],\n",
       "        [135, 129,  79],\n",
       "        ...,\n",
       "        [ 68,  74,  46],\n",
       "        [ 14,  27,   1],\n",
       "        [ 63,  77,  51]]], dtype=uint8)"
      ]
     },
     "metadata": {},
     "output_type": "display_data"
    }
   ],
   "source": [
    "# Set up an iterator for the data and a label map\n",
    "ditr = ds.as_numpy_iterator()\n",
    "label_map = {0: \"cat\", 1: \"dog\"}\n",
    "\n",
    "# Verify we are getting images\n",
    "data = ditr.next()\n",
    "img = data[\"image\"]\n",
    "img_label = label_map[data[\"label\"]]\n",
    "display(f\"The following image is of size {img.shape}\")\n",
    "display(img)"
   ]
  },
  {
   "attachments": {},
   "cell_type": "markdown",
   "metadata": {},
   "source": [
    "## Preprocess data\n",
    "\n",
    "I don't have a GPU and the images are quite large (as seen above). I want to scale them down to 32x32 and also make them grayscale since I don't have the resources to train a model on a 3 channel image.\n"
   ]
  },
  {
   "cell_type": "code",
   "execution_count": 67,
   "metadata": {},
   "outputs": [],
   "source": [
    "# Define preprocess function\n",
    "def preprocess(img_data):\n",
    "    img = img_data[\"image\"]\n",
    "    gimg = tf.image.rgb_to_grayscale(img)  # Convert to grayscale\n",
    "    downscaled_img = tf.image.resize(\n",
    "        gimg, [32, 32], antialias=True, method=\"lanczos3\"\n",
    "    )  # Scale to 32x32\n",
    "    downscaled_img = downscaled_img / 255  # Also put values betwee 0 and 1\n",
    "    return downscaled_img"
   ]
  },
  {
   "cell_type": "code",
   "execution_count": 68,
   "metadata": {},
   "outputs": [],
   "source": [
    "ds = tfds.load(\"cats_vs_dogs\", split=\"train\")\n",
    "# Apply preprocess to images in the data set\n",
    "ds = ds.map(preprocess)\n",
    "ds = ds.cache()\n",
    "ds = ds.shuffle(10000)\n",
    "ds = ds.batch(128)  # Bacth into 128 images per sample\n",
    "ds = ds.prefetch(64)  # Prefetch around half a batch\n",
    "\n",
    "ditr = ds.as_numpy_iterator()  # Update the iterator"
   ]
  },
  {
   "cell_type": "code",
   "execution_count": 73,
   "metadata": {},
   "outputs": [
    {
     "data": {
      "image/png": "[encoded data removed]",
      "text/plain": [
       "<Figure size 2000x2000 with 4 Axes>"
      ]
     },
     "metadata": {},
     "output_type": "display_data"
    }
   ],
   "source": [
    "# Visualize the images in the datasets 4 images from 4 batches\n",
    "fix, ax = plt.subplots(ncols=4, figsize=(20, 20))\n",
    "for i in range(4):\n",
    "    img = np.squeeze(ditr.next()[0])\n",
    "    ax[i].imshow(img)"
   ]
  },
  {
   "attachments": {},
   "cell_type": "markdown",
   "metadata": {},
   "source": [
    "# Building a Deep Neural Network\n",
    "\n",
    "In this section I will build the generator and the discriminator.\n"
   ]
  },
  {
   "cell_type": "code",
   "execution_count": 83,
   "metadata": {},
   "outputs": [],
   "source": [
    "from tensorflow.keras.models import Sequential\n",
    "from tensorflow.keras.layers import (\n",
    "    Conv2D,\n",
    "    Dense,\n",
    "    Flatten,\n",
    "    Reshape,\n",
    "    LeakyReLU,\n",
    "    Dropout,\n",
    "    UpSampling2D,\n",
    ")"
   ]
  },
  {
   "attachments": {},
   "cell_type": "markdown",
   "metadata": {},
   "source": [
    "## Generator\n"
   ]
  },
  {
   "cell_type": "code",
   "execution_count": 145,
   "metadata": {},
   "outputs": [],
   "source": [
    "def build_generator():\n",
    "    model = Sequential()\n",
    "\n",
    "    # The latent space is defined as 7x7x128\n",
    "    model.add(Dense(8 * 8 * 128, input_dim=128))\n",
    "    model.add(LeakyReLU(0.2))\n",
    "    model.add(Reshape((8, 8, 128)))\n",
    "\n",
    "    # Upsample #1\n",
    "    model.add(UpSampling2D())\n",
    "    model.add(Conv2D(128, 5, padding=\"same\"))  # Learn 128 filters\n",
    "    model.add(LeakyReLU(0.2))\n",
    "\n",
    "    # Upsampling #2\n",
    "    model.add(UpSampling2D())\n",
    "    model.add(Conv2D(128, 5, padding=\"same\"))  # Learn 128 filters\n",
    "    model.add(LeakyReLU(0.2))\n",
    "\n",
    "    # Convo block\n",
    "    model.add(Conv2D(128, 4, padding=\"same\"))\n",
    "    model.add(LeakyReLU(0.2))\n",
    "    model.add(Conv2D(128, 4, padding=\"same\"))\n",
    "    model.add(LeakyReLU(0.2))\n",
    "\n",
    "    # ! filter convo2d to learn output in the desired format\n",
    "    model.add(Conv2D(1, 4, padding=\"same\", activation=\"sigmoid\"))  # Learn 128 filters\n",
    "\n",
    "    return model"
   ]
  },
  {
   "cell_type": "code",
   "execution_count": 146,
   "metadata": {},
   "outputs": [
    {
     "name": "stdout",
     "output_type": "stream",
     "text": [
      "Model: \"sequential_23\"\n",
      "_________________________________________________________________\n",
      " Layer (type)                Output Shape              Param #   \n",
      "=================================================================\n",
      " dense_20 (Dense)            (None, 8192)              1056768   \n",
      "                                                                 \n",
      " leaky_re_lu_77 (LeakyReLU)  (None, 8192)              0         \n",
      "                                                                 \n",
      " reshape_18 (Reshape)        (None, 8, 8, 128)         0         \n",
      "                                                                 \n",
      " up_sampling2d_28 (UpSamplin  (None, 16, 16, 128)      0         \n",
      " g2D)                                                            \n",
      "                                                                 \n",
      " conv2d_69 (Conv2D)          (None, 16, 16, 128)       409728    \n",
      "                                                                 \n",
      " leaky_re_lu_78 (LeakyReLU)  (None, 16, 16, 128)       0         \n",
      "                                                                 \n",
      " up_sampling2d_29 (UpSamplin  (None, 32, 32, 128)      0         \n",
      " g2D)                                                            \n",
      "                                                                 \n",
      " conv2d_70 (Conv2D)          (None, 32, 32, 128)       409728    \n",
      "                                                                 \n",
      " leaky_re_lu_79 (LeakyReLU)  (None, 32, 32, 128)       0         \n",
      "                                                                 \n",
      " conv2d_71 (Conv2D)          (None, 32, 32, 128)       262272    \n",
      "                                                                 \n",
      " leaky_re_lu_80 (LeakyReLU)  (None, 32, 32, 128)       0         \n",
      "                                                                 \n",
      " conv2d_72 (Conv2D)          (None, 32, 32, 128)       262272    \n",
      "                                                                 \n",
      " leaky_re_lu_81 (LeakyReLU)  (None, 32, 32, 128)       0         \n",
      "                                                                 \n",
      " conv2d_73 (Conv2D)          (None, 32, 32, 1)         2049      \n",
      "                                                                 \n",
      "=================================================================\n",
      "Total params: 2,402,817\n",
      "Trainable params: 2,402,817\n",
      "Non-trainable params: 0\n",
      "_________________________________________________________________\n"
     ]
    }
   ],
   "source": [
    "# Visualize the model\n",
    "generator_model = build_generator()\n",
    "generator_model.summary()"
   ]
  },
  {
   "attachments": {},
   "cell_type": "markdown",
   "metadata": {},
   "source": [
    "## Discriminator\n"
   ]
  },
  {
   "cell_type": "code",
   "execution_count": 147,
   "metadata": {},
   "outputs": [],
   "source": [
    "def build_discriminator():\n",
    "    model = Sequential()\n",
    "\n",
    "    # Convo Block #1\n",
    "    model.add(Conv2D(32, 5, input_shape=(32, 32, 1)))\n",
    "    model.add(LeakyReLU(0.2))\n",
    "    model.add(Dropout(0.4))\n",
    "\n",
    "    # Convo Block #2\n",
    "    model.add(Conv2D(64, 5))\n",
    "    model.add(LeakyReLU(0.2))\n",
    "    model.add(Dropout(0.4))\n",
    "\n",
    "    # Convo Block #3\n",
    "    model.add(Conv2D(128, 5))\n",
    "    model.add(LeakyReLU(0.2))\n",
    "    model.add(Dropout(0.4))\n",
    "\n",
    "    # Convo Block #4\n",
    "    model.add(Conv2D(256, 5))\n",
    "    model.add(LeakyReLU(0.2))\n",
    "    model.add(Dropout(0.4))\n",
    "\n",
    "    # Flatten and output to one output neuron\n",
    "    model.add(Flatten())\n",
    "    model.add(Dense(1, activation=\"sigmoid\"))\n",
    "\n",
    "    return model"
   ]
  },
  {
   "cell_type": "code",
   "execution_count": 148,
   "metadata": {},
   "outputs": [
    {
     "name": "stdout",
     "output_type": "stream",
     "text": [
      "Model: \"sequential_24\"\n",
      "_________________________________________________________________\n",
      " Layer (type)                Output Shape              Param #   \n",
      "=================================================================\n",
      " conv2d_74 (Conv2D)          (None, 28, 28, 32)        832       \n",
      "                                                                 \n",
      " leaky_re_lu_82 (LeakyReLU)  (None, 28, 28, 32)        0         \n",
      "                                                                 \n",
      " dropout_13 (Dropout)        (None, 28, 28, 32)        0         \n",
      "                                                                 \n",
      " conv2d_75 (Conv2D)          (None, 24, 24, 64)        51264     \n",
      "                                                                 \n",
      " leaky_re_lu_83 (LeakyReLU)  (None, 24, 24, 64)        0         \n",
      "                                                                 \n",
      " dropout_14 (Dropout)        (None, 24, 24, 64)        0         \n",
      "                                                                 \n",
      " conv2d_76 (Conv2D)          (None, 20, 20, 128)       204928    \n",
      "                                                                 \n",
      " leaky_re_lu_84 (LeakyReLU)  (None, 20, 20, 128)       0         \n",
      "                                                                 \n",
      " dropout_15 (Dropout)        (None, 20, 20, 128)       0         \n",
      "                                                                 \n",
      " conv2d_77 (Conv2D)          (None, 16, 16, 256)       819456    \n",
      "                                                                 \n",
      " leaky_re_lu_85 (LeakyReLU)  (None, 16, 16, 256)       0         \n",
      "                                                                 \n",
      " dropout_16 (Dropout)        (None, 16, 16, 256)       0         \n",
      "                                                                 \n",
      " flatten_1 (Flatten)         (None, 65536)             0         \n",
      "                                                                 \n",
      " dense_21 (Dense)            (None, 1)                 65537     \n",
      "                                                                 \n",
      "=================================================================\n",
      "Total params: 1,142,017\n",
      "Trainable params: 1,142,017\n",
      "Non-trainable params: 0\n",
      "_________________________________________________________________\n"
     ]
    }
   ],
   "source": [
    "discriminator_model = build_discriminator()\n",
    "discriminator_model.summary()"
   ]
  },
  {
   "attachments": {},
   "cell_type": "markdown",
   "metadata": {},
   "source": [
    "# Training\n",
    "\n",
    "Here the generator and discriminator are trained simultaneously.\n"
   ]
  },
  {
   "cell_type": "code",
   "execution_count": 149,
   "metadata": {},
   "outputs": [],
   "source": [
    "from tensorflow.keras.optimizers import Adam\n",
    "from tensorflow.keras.losses import BinaryCrossentropy"
   ]
  },
  {
   "cell_type": "code",
   "execution_count": 174,
   "metadata": {},
   "outputs": [],
   "source": [
    "from tensorflow.keras.models import Model\n",
    "\n",
    "\n",
    "class CatGAN(Model):\n",
    "    def __init__(self, generator, discriminator, *args, **kwargs):\n",
    "        super().__init__(*args, **kwargs)\n",
    "\n",
    "        self.generator = generator\n",
    "        self.discriminator = discriminator\n",
    "\n",
    "    def compile(\n",
    "        self,\n",
    "        generator_opt,\n",
    "        discriminator_opt,\n",
    "        generator_loss,\n",
    "        discriminator_loss,\n",
    "        *args,\n",
    "        **kwargs\n",
    "    ):\n",
    "        super().compile(*args, **kwargs)\n",
    "\n",
    "        self.generator_opt = generator_opt\n",
    "        self.discriminator_opt = discriminator_opt\n",
    "        self.generator_loss = generator_loss\n",
    "        self.discriminator_loss = discriminator_loss\n",
    "\n",
    "    def train_step(self, batch):\n",
    "        real_imgs = batch\n",
    "        fake_imgs = self.generator(tf.random.normal((128, 128, 1)), training=False)\n",
    "\n",
    "        # Train discriminator\n",
    "        with tf.GradientTape() as discriminator_tape:\n",
    "            # Get discriminator predictors\n",
    "            y_pred_real = self.discriminator(real_imgs, training=True)\n",
    "            y_pred_fake = self.discriminator(fake_imgs, training=True)\n",
    "            y_pred = tf.concat([y_pred_real, y_pred_fake], axis=0)\n",
    "\n",
    "            # Keep track of which ones are real and fake for actual y\n",
    "            y = tf.concat(\n",
    "                [tf.zeros_like(y_pred_real), tf.ones_like(y_pred_fake)], axis=0\n",
    "            )  # Fake = 1. So the model says \"yes it is fake\"\n",
    "\n",
    "            # Add noise to true y\n",
    "            noise = 0.15 * tf.random.uniform(tf.shape(y))\n",
    "            y = y + noise # Add noise to each y\n",
    "\n",
    "            # Loss\n",
    "            total_discriminator_loss = self.discriminator_loss(y, y_pred)\n",
    "\n",
    "        discriminator_gradient = discriminator_tape.gradient(\n",
    "            total_discriminator_loss, self.discriminator.trainable_variables\n",
    "        )\n",
    "        self.discriminator_opt.apply_gradients(\n",
    "            zip(discriminator_gradient, self.discriminator.trainable_variables)\n",
    "        )\n",
    "\n",
    "        # Train generator\n",
    "        with tf.GradientTape() as generator_tape:\n",
    "            gen_imgs = self.generator(tf.random.normal((128, 128, 1)), training=True)\n",
    "\n",
    "            # Predict if fake from usining the discriminator\n",
    "            discriminator_y_pred = self.discriminator(gen_imgs, training=False)\n",
    "\n",
    "            # We want the discriminator to say 0 because it means we tricked the discriminator\n",
    "            total_generator_loss = self.generator_loss(\n",
    "                tf.zeros_like(discriminator_y_pred), discriminator_y_pred\n",
    "            )\n",
    "\n",
    "        generator_gradient = generator_tape.gradient(\n",
    "            total_generator_loss, self.generator.trainable_variables\n",
    "        )\n",
    "        self.generator_opt.apply_gradients(\n",
    "            zip(generator_gradient, self.generator.trainable_variables)\n",
    "        )\n",
    "\n",
    "        return {\n",
    "            \"discriminator_loss\": total_discriminator_loss,\n",
    "            \"generator_loss\": total_generator_loss,\n",
    "        }"
   ]
  },
  {
   "cell_type": "code",
   "execution_count": 175,
   "metadata": {},
   "outputs": [],
   "source": [
    "# Set up optimization and loss functions\n",
    "generator_opt = Adam(learning_rate=0.0001)\n",
    "discriminator_opt = Adam(learning_rate=0.00001)\n",
    "generator_loss = BinaryCrossentropy()\n",
    "discriminator_loss = BinaryCrossentropy()\n",
    "\n",
    "# Initialize the model\n",
    "catgan = CatGAN(generator_model, discriminator_model)\n",
    "catgan.compile(generator_opt, discriminator_opt, generator_loss, discriminator_loss)"
   ]
  },
  {
   "attachments": {},
   "cell_type": "markdown",
   "metadata": {},
   "source": [
    "## Set up a Model Monitor\n"
   ]
  },
  {
   "cell_type": "code",
   "execution_count": 176,
   "metadata": {},
   "outputs": [],
   "source": [
    "import os\n",
    "from tensorflow.keras.preprocessing.image import array_to_img\n",
    "from tensorflow.keras.callbacks import Callback"
   ]
  },
  {
   "cell_type": "code",
   "execution_count": 177,
   "metadata": {},
   "outputs": [],
   "source": [
    "class CatGANMonitor(Callback):\n",
    "    def __init__(self, img_count=3, latent_dim=128):\n",
    "        self.img_count = img_count\n",
    "        self.latent_dim = latent_dim\n",
    "\n",
    "    def on_epoch_end(self, epoch, logs=None):\n",
    "        random_latent_vectors = tf.random.uniform((self.img_count, self.latent_dim), 1)\n",
    "        generated_images = self.model.generator(random_latent_vectors)\n",
    "        generated_images = generated_images * 255\n",
    "        generated_images.numpy()\n",
    "\n",
    "        for i in range(self.img_count):\n",
    "            img = array_to_img(generated_images[i])\n",
    "            img.save(os.path.join(\"./catgan_images/\", f\"epoch_{epoch}_img{i}.png\"))"
   ]
  },
  {
   "cell_type": "code",
   "execution_count": 178,
   "metadata": {},
   "outputs": [
    {
     "name": "stdout",
     "output_type": "stream",
     "text": [
      "Epoch 1/2\n",
      "  6/182 [..............................] - ETA: 23:31 - discriminator_loss: 0.6916 - generator_loss: 0.7300"
     ]
    },
    {
     "ename": "KeyboardInterrupt",
     "evalue": "",
     "output_type": "error",
     "traceback": [
      "\u001b[1;31m---------------------------------------------------------------------------\u001b[0m",
      "\u001b[1;31mKeyboardInterrupt\u001b[0m                         Traceback (most recent call last)",
      "Cell \u001b[1;32mIn[178], line 3\u001b[0m\n\u001b[0;32m      1\u001b[0m \u001b[39m# Start training\u001b[39;00m\n\u001b[0;32m      2\u001b[0m monitor \u001b[39m=\u001b[39m CatGANMonitor()\n\u001b[1;32m----> 3\u001b[0m hist \u001b[39m=\u001b[39m catgan\u001b[39m.\u001b[39;49mfit(ds, epochs\u001b[39m=\u001b[39;49m\u001b[39m2\u001b[39;49m)\n",
      "File \u001b[1;32mc:\\Users\\viruv\\Desktop\\Adi\\projects\\cat-gan\\venv\\Lib\\site-packages\\keras\\utils\\traceback_utils.py:65\u001b[0m, in \u001b[0;36mfilter_traceback.<locals>.error_handler\u001b[1;34m(*args, **kwargs)\u001b[0m\n\u001b[0;32m     63\u001b[0m filtered_tb \u001b[39m=\u001b[39m \u001b[39mNone\u001b[39;00m\n\u001b[0;32m     64\u001b[0m \u001b[39mtry\u001b[39;00m:\n\u001b[1;32m---> 65\u001b[0m     \u001b[39mreturn\u001b[39;00m fn(\u001b[39m*\u001b[39;49margs, \u001b[39m*\u001b[39;49m\u001b[39m*\u001b[39;49mkwargs)\n\u001b[0;32m     66\u001b[0m \u001b[39mexcept\u001b[39;00m \u001b[39mException\u001b[39;00m \u001b[39mas\u001b[39;00m e:\n\u001b[0;32m     67\u001b[0m     filtered_tb \u001b[39m=\u001b[39m _process_traceback_frames(e\u001b[39m.\u001b[39m__traceback__)\n",
      "File \u001b[1;32mc:\\Users\\viruv\\Desktop\\Adi\\projects\\cat-gan\\venv\\Lib\\site-packages\\keras\\engine\\training.py:1685\u001b[0m, in \u001b[0;36mModel.fit\u001b[1;34m(self, x, y, batch_size, epochs, verbose, callbacks, validation_split, validation_data, shuffle, class_weight, sample_weight, initial_epoch, steps_per_epoch, validation_steps, validation_batch_size, validation_freq, max_queue_size, workers, use_multiprocessing)\u001b[0m\n\u001b[0;32m   1677\u001b[0m \u001b[39mwith\u001b[39;00m tf\u001b[39m.\u001b[39mprofiler\u001b[39m.\u001b[39mexperimental\u001b[39m.\u001b[39mTrace(\n\u001b[0;32m   1678\u001b[0m     \u001b[39m\"\u001b[39m\u001b[39mtrain\u001b[39m\u001b[39m\"\u001b[39m,\n\u001b[0;32m   1679\u001b[0m     epoch_num\u001b[39m=\u001b[39mepoch,\n\u001b[1;32m   (...)\u001b[0m\n\u001b[0;32m   1682\u001b[0m     _r\u001b[39m=\u001b[39m\u001b[39m1\u001b[39m,\n\u001b[0;32m   1683\u001b[0m ):\n\u001b[0;32m   1684\u001b[0m     callbacks\u001b[39m.\u001b[39mon_train_batch_begin(step)\n\u001b[1;32m-> 1685\u001b[0m     tmp_logs \u001b[39m=\u001b[39m \u001b[39mself\u001b[39;49m\u001b[39m.\u001b[39;49mtrain_function(iterator)\n\u001b[0;32m   1686\u001b[0m     \u001b[39mif\u001b[39;00m data_handler\u001b[39m.\u001b[39mshould_sync:\n\u001b[0;32m   1687\u001b[0m         context\u001b[39m.\u001b[39masync_wait()\n",
      "File \u001b[1;32mc:\\Users\\viruv\\Desktop\\Adi\\projects\\cat-gan\\venv\\Lib\\site-packages\\tensorflow\\python\\util\\traceback_utils.py:150\u001b[0m, in \u001b[0;36mfilter_traceback.<locals>.error_handler\u001b[1;34m(*args, **kwargs)\u001b[0m\n\u001b[0;32m    148\u001b[0m filtered_tb \u001b[39m=\u001b[39m \u001b[39mNone\u001b[39;00m\n\u001b[0;32m    149\u001b[0m \u001b[39mtry\u001b[39;00m:\n\u001b[1;32m--> 150\u001b[0m   \u001b[39mreturn\u001b[39;00m fn(\u001b[39m*\u001b[39;49margs, \u001b[39m*\u001b[39;49m\u001b[39m*\u001b[39;49mkwargs)\n\u001b[0;32m    151\u001b[0m \u001b[39mexcept\u001b[39;00m \u001b[39mException\u001b[39;00m \u001b[39mas\u001b[39;00m e:\n\u001b[0;32m    152\u001b[0m   filtered_tb \u001b[39m=\u001b[39m _process_traceback_frames(e\u001b[39m.\u001b[39m__traceback__)\n",
      "File \u001b[1;32mc:\\Users\\viruv\\Desktop\\Adi\\projects\\cat-gan\\venv\\Lib\\site-packages\\tensorflow\\python\\eager\\polymorphic_function\\polymorphic_function.py:894\u001b[0m, in \u001b[0;36mFunction.__call__\u001b[1;34m(self, *args, **kwds)\u001b[0m\n\u001b[0;32m    891\u001b[0m compiler \u001b[39m=\u001b[39m \u001b[39m\"\u001b[39m\u001b[39mxla\u001b[39m\u001b[39m\"\u001b[39m \u001b[39mif\u001b[39;00m \u001b[39mself\u001b[39m\u001b[39m.\u001b[39m_jit_compile \u001b[39melse\u001b[39;00m \u001b[39m\"\u001b[39m\u001b[39mnonXla\u001b[39m\u001b[39m\"\u001b[39m\n\u001b[0;32m    893\u001b[0m \u001b[39mwith\u001b[39;00m OptionalXlaContext(\u001b[39mself\u001b[39m\u001b[39m.\u001b[39m_jit_compile):\n\u001b[1;32m--> 894\u001b[0m   result \u001b[39m=\u001b[39m \u001b[39mself\u001b[39;49m\u001b[39m.\u001b[39;49m_call(\u001b[39m*\u001b[39;49margs, \u001b[39m*\u001b[39;49m\u001b[39m*\u001b[39;49mkwds)\n\u001b[0;32m    896\u001b[0m new_tracing_count \u001b[39m=\u001b[39m \u001b[39mself\u001b[39m\u001b[39m.\u001b[39mexperimental_get_tracing_count()\n\u001b[0;32m    897\u001b[0m without_tracing \u001b[39m=\u001b[39m (tracing_count \u001b[39m==\u001b[39m new_tracing_count)\n",
      "File \u001b[1;32mc:\\Users\\viruv\\Desktop\\Adi\\projects\\cat-gan\\venv\\Lib\\site-packages\\tensorflow\\python\\eager\\polymorphic_function\\polymorphic_function.py:926\u001b[0m, in \u001b[0;36mFunction._call\u001b[1;34m(self, *args, **kwds)\u001b[0m\n\u001b[0;32m    923\u001b[0m   \u001b[39mself\u001b[39m\u001b[39m.\u001b[39m_lock\u001b[39m.\u001b[39mrelease()\n\u001b[0;32m    924\u001b[0m   \u001b[39m# In this case we have created variables on the first call, so we run the\u001b[39;00m\n\u001b[0;32m    925\u001b[0m   \u001b[39m# defunned version which is guaranteed to never create variables.\u001b[39;00m\n\u001b[1;32m--> 926\u001b[0m   \u001b[39mreturn\u001b[39;00m \u001b[39mself\u001b[39;49m\u001b[39m.\u001b[39;49m_no_variable_creation_fn(\u001b[39m*\u001b[39;49margs, \u001b[39m*\u001b[39;49m\u001b[39m*\u001b[39;49mkwds)  \u001b[39m# pylint: disable=not-callable\u001b[39;00m\n\u001b[0;32m    927\u001b[0m \u001b[39melif\u001b[39;00m \u001b[39mself\u001b[39m\u001b[39m.\u001b[39m_variable_creation_fn \u001b[39mis\u001b[39;00m \u001b[39mnot\u001b[39;00m \u001b[39mNone\u001b[39;00m:\n\u001b[0;32m    928\u001b[0m   \u001b[39m# Release the lock early so that multiple threads can perform the call\u001b[39;00m\n\u001b[0;32m    929\u001b[0m   \u001b[39m# in parallel.\u001b[39;00m\n\u001b[0;32m    930\u001b[0m   \u001b[39mself\u001b[39m\u001b[39m.\u001b[39m_lock\u001b[39m.\u001b[39mrelease()\n",
      "File \u001b[1;32mc:\\Users\\viruv\\Desktop\\Adi\\projects\\cat-gan\\venv\\Lib\\site-packages\\tensorflow\\python\\eager\\polymorphic_function\\tracing_compiler.py:143\u001b[0m, in \u001b[0;36mTracingCompiler.__call__\u001b[1;34m(self, *args, **kwargs)\u001b[0m\n\u001b[0;32m    140\u001b[0m \u001b[39mwith\u001b[39;00m \u001b[39mself\u001b[39m\u001b[39m.\u001b[39m_lock:\n\u001b[0;32m    141\u001b[0m   (concrete_function,\n\u001b[0;32m    142\u001b[0m    filtered_flat_args) \u001b[39m=\u001b[39m \u001b[39mself\u001b[39m\u001b[39m.\u001b[39m_maybe_define_function(args, kwargs)\n\u001b[1;32m--> 143\u001b[0m \u001b[39mreturn\u001b[39;00m concrete_function\u001b[39m.\u001b[39;49m_call_flat(\n\u001b[0;32m    144\u001b[0m     filtered_flat_args, captured_inputs\u001b[39m=\u001b[39;49mconcrete_function\u001b[39m.\u001b[39;49mcaptured_inputs)\n",
      "File \u001b[1;32mc:\\Users\\viruv\\Desktop\\Adi\\projects\\cat-gan\\venv\\Lib\\site-packages\\tensorflow\\python\\eager\\polymorphic_function\\monomorphic_function.py:1757\u001b[0m, in \u001b[0;36mConcreteFunction._call_flat\u001b[1;34m(self, args, captured_inputs, cancellation_manager)\u001b[0m\n\u001b[0;32m   1753\u001b[0m possible_gradient_type \u001b[39m=\u001b[39m gradients_util\u001b[39m.\u001b[39mPossibleTapeGradientTypes(args)\n\u001b[0;32m   1754\u001b[0m \u001b[39mif\u001b[39;00m (possible_gradient_type \u001b[39m==\u001b[39m gradients_util\u001b[39m.\u001b[39mPOSSIBLE_GRADIENT_TYPES_NONE\n\u001b[0;32m   1755\u001b[0m     \u001b[39mand\u001b[39;00m executing_eagerly):\n\u001b[0;32m   1756\u001b[0m   \u001b[39m# No tape is watching; skip to running the function.\u001b[39;00m\n\u001b[1;32m-> 1757\u001b[0m   \u001b[39mreturn\u001b[39;00m \u001b[39mself\u001b[39m\u001b[39m.\u001b[39m_build_call_outputs(\u001b[39mself\u001b[39;49m\u001b[39m.\u001b[39;49m_inference_function\u001b[39m.\u001b[39;49mcall(\n\u001b[0;32m   1758\u001b[0m       ctx, args, cancellation_manager\u001b[39m=\u001b[39;49mcancellation_manager))\n\u001b[0;32m   1759\u001b[0m forward_backward \u001b[39m=\u001b[39m \u001b[39mself\u001b[39m\u001b[39m.\u001b[39m_select_forward_and_backward_functions(\n\u001b[0;32m   1760\u001b[0m     args,\n\u001b[0;32m   1761\u001b[0m     possible_gradient_type,\n\u001b[0;32m   1762\u001b[0m     executing_eagerly)\n\u001b[0;32m   1763\u001b[0m forward_function, args_with_tangents \u001b[39m=\u001b[39m forward_backward\u001b[39m.\u001b[39mforward()\n",
      "File \u001b[1;32mc:\\Users\\viruv\\Desktop\\Adi\\projects\\cat-gan\\venv\\Lib\\site-packages\\tensorflow\\python\\eager\\polymorphic_function\\monomorphic_function.py:381\u001b[0m, in \u001b[0;36m_EagerDefinedFunction.call\u001b[1;34m(self, ctx, args, cancellation_manager)\u001b[0m\n\u001b[0;32m    379\u001b[0m \u001b[39mwith\u001b[39;00m _InterpolateFunctionError(\u001b[39mself\u001b[39m):\n\u001b[0;32m    380\u001b[0m   \u001b[39mif\u001b[39;00m cancellation_manager \u001b[39mis\u001b[39;00m \u001b[39mNone\u001b[39;00m:\n\u001b[1;32m--> 381\u001b[0m     outputs \u001b[39m=\u001b[39m execute\u001b[39m.\u001b[39;49mexecute(\n\u001b[0;32m    382\u001b[0m         \u001b[39mstr\u001b[39;49m(\u001b[39mself\u001b[39;49m\u001b[39m.\u001b[39;49msignature\u001b[39m.\u001b[39;49mname),\n\u001b[0;32m    383\u001b[0m         num_outputs\u001b[39m=\u001b[39;49m\u001b[39mself\u001b[39;49m\u001b[39m.\u001b[39;49m_num_outputs,\n\u001b[0;32m    384\u001b[0m         inputs\u001b[39m=\u001b[39;49margs,\n\u001b[0;32m    385\u001b[0m         attrs\u001b[39m=\u001b[39;49mattrs,\n\u001b[0;32m    386\u001b[0m         ctx\u001b[39m=\u001b[39;49mctx)\n\u001b[0;32m    387\u001b[0m   \u001b[39melse\u001b[39;00m:\n\u001b[0;32m    388\u001b[0m     outputs \u001b[39m=\u001b[39m execute\u001b[39m.\u001b[39mexecute_with_cancellation(\n\u001b[0;32m    389\u001b[0m         \u001b[39mstr\u001b[39m(\u001b[39mself\u001b[39m\u001b[39m.\u001b[39msignature\u001b[39m.\u001b[39mname),\n\u001b[0;32m    390\u001b[0m         num_outputs\u001b[39m=\u001b[39m\u001b[39mself\u001b[39m\u001b[39m.\u001b[39m_num_outputs,\n\u001b[1;32m   (...)\u001b[0m\n\u001b[0;32m    393\u001b[0m         ctx\u001b[39m=\u001b[39mctx,\n\u001b[0;32m    394\u001b[0m         cancellation_manager\u001b[39m=\u001b[39mcancellation_manager)\n",
      "File \u001b[1;32mc:\\Users\\viruv\\Desktop\\Adi\\projects\\cat-gan\\venv\\Lib\\site-packages\\tensorflow\\python\\eager\\execute.py:52\u001b[0m, in \u001b[0;36mquick_execute\u001b[1;34m(op_name, num_outputs, inputs, attrs, ctx, name)\u001b[0m\n\u001b[0;32m     50\u001b[0m \u001b[39mtry\u001b[39;00m:\n\u001b[0;32m     51\u001b[0m   ctx\u001b[39m.\u001b[39mensure_initialized()\n\u001b[1;32m---> 52\u001b[0m   tensors \u001b[39m=\u001b[39m pywrap_tfe\u001b[39m.\u001b[39;49mTFE_Py_Execute(ctx\u001b[39m.\u001b[39;49m_handle, device_name, op_name,\n\u001b[0;32m     53\u001b[0m                                       inputs, attrs, num_outputs)\n\u001b[0;32m     54\u001b[0m \u001b[39mexcept\u001b[39;00m core\u001b[39m.\u001b[39m_NotOkStatusException \u001b[39mas\u001b[39;00m e:\n\u001b[0;32m     55\u001b[0m   \u001b[39mif\u001b[39;00m name \u001b[39mis\u001b[39;00m \u001b[39mnot\u001b[39;00m \u001b[39mNone\u001b[39;00m:\n",
      "\u001b[1;31mKeyboardInterrupt\u001b[0m: "
     ]
    }
   ],
   "source": [
    "# Start training\n",
    "monitor = CatGANMonitor()\n",
    "hist = catgan.fit(ds, epochs=2, callbacks=[monitor])"
   ]
  }
 ],
 "metadata": {
  "kernelspec": {
   "display_name": "venv",
   "language": "python",
   "name": "python3"
  },
  "language_info": {
   "codemirror_mode": {
    "name": "ipython",
    "version": 3
   },
   "file_extension": ".py",
   "mimetype": "text/x-python",
   "name": "python",
   "nbconvert_exporter": "python",
   "pygments_lexer": "ipython3",
   "version": "3.11.3"
  },
  "orig_nbformat": 4
 },
 "nbformat": 4,
 "nbformat_minor": 2
}
